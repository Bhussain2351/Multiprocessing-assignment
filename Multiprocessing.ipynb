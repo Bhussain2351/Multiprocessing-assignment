{
 "cells": [
  {
   "cell_type": "code",
   "execution_count": null,
   "id": "34a82df5-f703-40a2-87a9-dd86a8e8d4ff",
   "metadata": {},
   "outputs": [],
   "source": [
    "# Multiprocessing in Python is a built-in package that allows the system to run multiple processes simultaneously.\n",
    "# It will enable the breaking of applications into smaller threads that can run independently.\n",
    "\n",
    "# Python multithreading enables efficient utilization of the resources as the threads share the data space and memory. \n",
    "# Multithreading in Python allows the concurrent and parallel occurrence of various tasks. \n",
    "# It causes a reduction in time consumption or response time, thereby increasing the performance."
   ]
  },
  {
   "cell_type": "code",
   "execution_count": 1,
   "id": "9278ea4b-ffe3-44fb-872c-879abb88cf87",
   "metadata": {},
   "outputs": [],
   "source": [
    "#Multiprocessing uses two or more CPUs to increase computing power,\n",
    "#whereas multithreading uses a single process with multiple code segments to increase computing power."
   ]
  },
  {
   "cell_type": "code",
   "execution_count": 16,
   "id": "6c23e0fd-0b93-4366-8179-5c378e5bef4b",
   "metadata": {},
   "outputs": [],
   "source": [
    "import multiprocessing"
   ]
  },
  {
   "cell_type": "code",
   "execution_count": 26,
   "id": "65976480-44eb-49c1-8153-ba9f0447376a",
   "metadata": {},
   "outputs": [
    {
     "name": "stdout",
     "output_type": "stream",
     "text": [
      "Good Morning,Bakhtiar\n"
     ]
    }
   ],
   "source": [
    "import multiprocessing\n",
    "\n",
    "def greeting(name):\n",
    "    print(f\"Good Morning,{name}\")\n",
    "    \n",
    "if __name__ == \"__main__\":\n",
    "    p=multiprocessing.Process(target=greeting,args=(\"Bakhtiar\",))\n",
    "    p.start()\n",
    "    p.join()"
   ]
  },
  {
   "cell_type": "code",
   "execution_count": 29,
   "id": "514475da-9ce0-4c18-bf46-9af15af6d18c",
   "metadata": {},
   "outputs": [],
   "source": [
    "# Python Multiprocessing: The Pool and Process class\n",
    "# The pool distributes the tasks to the available processors using a FIFO scheduling. It works like a map-reduce architecture. \n",
    "# It maps the input to the different processors and collects the output from all the processors"
   ]
  },
  {
   "cell_type": "code",
   "execution_count": null,
   "id": "4a11269d-6ca0-4e17-8be6-5c861e225380",
   "metadata": {},
   "outputs": [],
   "source": [
    "# We can configure the number of worker processes in the multiprocessing.pool.Pool by setting \n",
    "# the “processes” argument in the constructor."
   ]
  },
  {
   "cell_type": "code",
   "execution_count": 44,
   "id": "33c056e4-0d3a-4717-92a4-91895bcfefeb",
   "metadata": {},
   "outputs": [
    {
     "name": "stdout",
     "output_type": "stream",
     "text": [
      "[1, 4, 9, 16, 25]\n"
     ]
    }
   ],
   "source": [
    "def square(n):\n",
    "    return n**2\n",
    "if __name__ ==\"__main__\":\n",
    "    with multiprocessing.Pool(processes=4) as pool:\n",
    "        x=pool.map(square,[1,2,3,4,5])\n",
    "        print(x)"
   ]
  },
  {
   "cell_type": "code",
   "execution_count": null,
   "id": "fe3abec8-5fe8-498a-9eb0-49087104ebee",
   "metadata": {},
   "outputs": [],
   "source": []
  }
 ],
 "metadata": {
  "kernelspec": {
   "display_name": "Python 3 (ipykernel)",
   "language": "python",
   "name": "python3"
  },
  "language_info": {
   "codemirror_mode": {
    "name": "ipython",
    "version": 3
   },
   "file_extension": ".py",
   "mimetype": "text/x-python",
   "name": "python",
   "nbconvert_exporter": "python",
   "pygments_lexer": "ipython3",
   "version": "3.10.8"
  }
 },
 "nbformat": 4,
 "nbformat_minor": 5
}
